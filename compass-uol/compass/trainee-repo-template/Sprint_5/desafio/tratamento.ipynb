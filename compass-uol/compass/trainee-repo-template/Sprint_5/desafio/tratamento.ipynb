{
 "cells": [
  {
   "cell_type": "markdown",
   "metadata": {},
   "source": [
    "# Importando bibliotecas."
   ]
  },
  {
   "cell_type": "code",
   "execution_count": 1,
   "metadata": {},
   "outputs": [],
   "source": [
    "import pandas as pd"
   ]
  },
  {
   "cell_type": "markdown",
   "metadata": {},
   "source": [
    "# Limpando os dados para um melhor tratamento."
   ]
  },
  {
   "cell_type": "code",
   "execution_count": null,
   "metadata": {},
   "outputs": [],
   "source": [
    "\n",
    "arquivocsv = pd.read_csv('cadunico.csv', sep=';')\n",
    "arquivocsv= arquivocsv.drop_duplicates()\n",
    "arquivocsv.to_csv('cadTratado.csv', index=False)"
   ]
  },
  {
   "cell_type": "markdown",
   "metadata": {},
   "source": [
    "# Quantidade de familias que atualizaram o cadastro entre 2015 e 2016"
   ]
  },
  {
   "cell_type": "code",
   "execution_count": 22,
   "metadata": {},
   "outputs": [
    {
     "name": "stdout",
     "output_type": "stream",
     "text": [
      "55614\n"
     ]
    }
   ],
   "source": [
    "data = pd.read_csv('cadTratado.csv')\n",
    "dataOrdenadas = data.sort_values(by='DATA_ATUALIZACAO_FAMILIA')\n",
    "\n",
    "data_filtrada = dataOrdenadas[(dataOrdenadas['DATA_ATUALIZACAO_FAMILIA'] >= '1/1/2016 00:00:00') & (dataOrdenadas['DATA_ATUALIZACAO_FAMILIA'] <= '31/12/2016 00:00:00')]\n",
    "print(len(data_filtrada))\n"
   ]
  },
  {
   "cell_type": "markdown",
   "metadata": {},
   "source": [
    "# Quantidade de familias que recebem até R$89,00"
   ]
  },
  {
   "cell_type": "code",
   "execution_count": 25,
   "metadata": {},
   "outputs": [
    {
     "name": "stdout",
     "output_type": "stream",
     "text": [
      "20552\n"
     ]
    }
   ],
   "source": [
    "fam = arquivocsv[arquivocsv['FAIXA_RENDA_FAMILIAR_PER_CAPITA'] == 'Ate R$89,00']\n",
    "quantasFam = len(fam)\n",
    "print(quantasFam)"
   ]
  },
  {
   "cell_type": "markdown",
   "metadata": {},
   "source": [
    "# Quantidade de familias que recebem entre R$89,01 ate R$178,00."
   ]
  },
  {
   "cell_type": "code",
   "execution_count": 30,
   "metadata": {},
   "outputs": [
    {
     "name": "stdout",
     "output_type": "stream",
     "text": [
      "15031\n"
     ]
    }
   ],
   "source": [
    "familias = arquivocsv[arquivocsv['FAIXA_RENDA_FAMILIAR_PER_CAPITA'] == 'Entre R$89,01 ate R$178,00']\n",
    "quantasFamilias = len(familias)\n",
    "print(quantasFamilias)"
   ]
  },
  {
   "cell_type": "markdown",
   "metadata": {},
   "source": [
    "# Verificando se o número total de famílias que recebem entre R$89,01 ate R$178,00 é par ou ímpar."
   ]
  },
  {
   "cell_type": "code",
   "execution_count": 34,
   "metadata": {},
   "outputs": [
    {
     "name": "stdout",
     "output_type": "stream",
     "text": [
      "impar\n"
     ]
    }
   ],
   "source": [
    "if quantasFamilias % 2 == 0:\n",
    "    print('par')\n",
    "else:\n",
    "    print('impar')"
   ]
  },
  {
   "cell_type": "markdown",
   "metadata": {},
   "source": [
    "# Convertendo os valores da tabela \"MES_ANO_REFERENCIA\" de int para float."
   ]
  },
  {
   "cell_type": "code",
   "execution_count": 35,
   "metadata": {},
   "outputs": [],
   "source": [
    "arquivocsv['MES_ANO_REFERENCIA'] = arquivocsv['MES_ANO_REFERENCIA'].astype(float)"
   ]
  },
  {
   "cell_type": "markdown",
   "metadata": {},
   "source": [
    "# Data da primeira atualização de cadastro de família."
   ]
  },
  {
   "cell_type": "code",
   "execution_count": 37,
   "metadata": {},
   "outputs": [
    {
     "name": "stdout",
     "output_type": "stream",
     "text": [
      "67192    1/10/2015 00:00:00\n",
      "Name: DATA_ATUALIZACAO_FAMILIA, dtype: object\n"
     ]
    }
   ],
   "source": [
    "print(dataOrdenadas['DATA_ATUALIZACAO_FAMILIA'].head(1))"
   ]
  },
  {
   "cell_type": "markdown",
   "metadata": {},
   "source": [
    "# Deixando as 5 primeiras linhas da coluna \"REGIONAL\" em letras minúsculas."
   ]
  },
  {
   "cell_type": "code",
   "execution_count": 47,
   "metadata": {},
   "outputs": [
    {
     "name": "stdout",
     "output_type": "stream",
     "text": [
      "0       norte\n",
      "1       norte\n",
      "2    noroeste\n",
      "3       norte\n",
      "4    nordeste\n",
      "Name: REGIONAL, dtype: object\n"
     ]
    }
   ],
   "source": [
    "print(arquivocsv['REGIONAL'].str.lower().head(5))"
   ]
  }
 ],
 "metadata": {
  "kernelspec": {
   "display_name": "Python 3",
   "language": "python",
   "name": "python3"
  },
  "language_info": {
   "codemirror_mode": {
    "name": "ipython",
    "version": 3
   },
   "file_extension": ".py",
   "mimetype": "text/x-python",
   "name": "python",
   "nbconvert_exporter": "python",
   "pygments_lexer": "ipython3",
   "version": "3.13.0"
  }
 },
 "nbformat": 4,
 "nbformat_minor": 2
}
